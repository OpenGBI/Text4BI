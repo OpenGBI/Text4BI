{
 "cells": [
  {
   "cell_type": "code",
   "execution_count": 1,
   "metadata": {},
   "outputs": [
    {
     "name": "stdout",
     "output_type": "stream",
     "text": [
      "   RowID         OrderID  OrderDate   ShipDate        ShipMode CustomerID  \\\n",
      "0  39069  CA-2013-108196 2013-11-26 2013-12-03  Standard Class   CS-12505   \n",
      "1  48663    TU-2013-9400 2013-09-26 2013-09-26        Same Day    DM-3345   \n",
      "2  31980  US-2014-168116 2014-11-05 2014-11-05        Same Day   GT-14635   \n",
      "3  41071  CA-2011-169019 2011-07-26 2011-07-30  Standard Class   LF-17185   \n",
      "4  34308  CA-2014-134845 2014-04-18 2014-04-24  Standard Class   SR-20425   \n",
      "\n",
      "     CustomerName      Segment         City           State  ...  \\\n",
      "0   Cindy Stewart     Consumer    Lancaster            Ohio  ...   \n",
      "1   Denise Monton    Corporate      Bornova           Izmir  ...   \n",
      "2  Grant Thornton    Corporate   Burlington  North Carolina  ...   \n",
      "3     Luke Foster     Consumer  San Antonio           Texas  ...   \n",
      "4  Sharelle Roach  Home Office   Louisville        Colorado  ...   \n",
      "\n",
      "          ProductID         Category SubCategory  \\\n",
      "0   TEC-MA-10000418       Technology    Machines   \n",
      "1  TEC-MOT-10003050       Technology      Phones   \n",
      "2   TEC-MA-10004125       Technology    Machines   \n",
      "3   OFF-BI-10004995  Office Supplies     Binders   \n",
      "4   TEC-MA-10000822       Technology    Machines   \n",
      "\n",
      "                                 ProductName     Sales Quantity Discount  \\\n",
      "0  Cubify CubeX 3D Printer Double Head Print  4499.985        5      0.7   \n",
      "1             Motorola Smart Phone, Cordless  3085.344       12      0.6   \n",
      "2  Cubify CubeX 3D Printer Triple Head Print  7999.980        4      0.5   \n",
      "3  GBC DocuBind P400 Electric Binding System  2177.584        8      0.8   \n",
      "4  Lexmark MX611dhe Monochrome Laser Printer  2549.985        5      0.7   \n",
      "\n",
      "      Profit  ShippingCost  OrderPriority  \n",
      "0 -6599.9780        451.63            Low  \n",
      "1 -4088.3760         51.89       Critical  \n",
      "2 -3839.9904        674.82           High  \n",
      "3 -3701.8928        172.07         Medium  \n",
      "4 -3399.9800        120.31         Medium  \n",
      "\n",
      "[5 rows x 24 columns]\n"
     ]
    }
   ],
   "source": [
    "import pandas as pd\n",
    "import matplotlib.pyplot as plt\n",
    "\n",
    "# 读取Global Superstore的CSV文件\n",
    "data = pd.read_excel('Global Superstore.xls')\n",
    "\n",
    "# 查看数据的前几行以确保正确加载\n",
    "print(data.head())"
   ]
  }
 ],
 "metadata": {
  "kernelspec": {
   "display_name": "Python 3",
   "language": "python",
   "name": "python3"
  },
  "language_info": {
   "codemirror_mode": {
    "name": "ipython",
    "version": 3
   },
   "file_extension": ".py",
   "mimetype": "text/x-python",
   "name": "python",
   "nbconvert_exporter": "python",
   "pygments_lexer": "ipython3",
   "version": "3.9.6"
  }
 },
 "nbformat": 4,
 "nbformat_minor": 2
}
